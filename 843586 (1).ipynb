{
 "cells": [
  {
   "cell_type": "markdown",
   "metadata": {},
   "source": [
    "Parte 1"
   ]
  },
  {
   "cell_type": "markdown",
   "metadata": {},
   "source": [
    "A)"
   ]
  },
  {
   "cell_type": "code",
   "execution_count": 1,
   "id": "34c241b8",
   "metadata": {},
   "outputs": [],
   "source": [
    "import pandas as pd\n",
    "import numpy as np\n",
    "from sklearn.model_selection import train_test_split\n",
    "\n",
    "df = pd.read_table('Part 1.tsv', comment='#')\n",
    "\n",
    "pt1 = df.sample(frac=0.2)\n",
    "\n",
    "X1 = pt1.iloc[:, :6].values\n",
    "y1 = pt1[\"target\"].values\n",
    "\n",
    "\n"
   ]
  },
  {
   "cell_type": "markdown",
   "metadata": {},
   "source": [
    "B)"
   ]
  },
  {
   "cell_type": "code",
   "execution_count": 2,
   "id": "1de1df8d",
   "metadata": {},
   "outputs": [],
   "source": [
    "\n",
    "X1_train, X1_test, y1_train, y1_test = train_test_split(X1, y1, test_size=0.3, random_state=0)"
   ]
  },
  {
   "cell_type": "markdown",
   "metadata": {},
   "source": [
    "C)"
   ]
  },
  {
   "cell_type": "code",
   "execution_count": 3,
   "id": "08c08225",
   "metadata": {},
   "outputs": [],
   "source": [
    "from sklearn.model_selection import train_test_split\n",
    "from rich.progress import track\n",
    "\n",
    "# implement the activation and cost functions\n",
    "def sigmoid(Z):\n",
    "    return 1.0 / (1.0 + np.exp(-Z))\n",
    "\n",
    "def sigmoid_derivative(output):\n",
    "    return output * (1.0 - output)\n",
    "\n",
    "def cost_function(y1, y1_hat):\n",
    "  \n",
    "    # sum of squares error function\n",
    "    return np.sum(np.square(y1 - y1_hat))*0.5\n",
    "\n",
    "def cost_gradient(y1, y1_hat):\n",
    "\n",
    "  # derivative of the cost function\n",
    "    return -(y1 - y1_hat)"
   ]
  },
  {
   "cell_type": "code",
   "execution_count": 4,
   "id": "aaedddf1",
   "metadata": {},
   "outputs": [],
   "source": [
    "# From lab 09\n",
    "\n",
    "from sklearn.base import BaseEstimator, RegressorMixin\n",
    "from sklearn.utils.estimator_checks import check_estimator\n",
    "from sklearn.utils.validation import check_X_y, check_array, check_is_fitted\n",
    "\n",
    "def print_dim(name, var):\n",
    "    print(f\"{name} = {var.shape}\")\n",
    "\n",
    "class FiveLayerPerceptronRegressor(BaseEstimator, RegressorMixin):\n",
    "    \"\"\"\n",
    "    A fully connected 5-layer perceptron for binary regression.\n",
    "    \n",
    "    Parameters\n",
    "    ----------\n",
    "    size_hidden : int\n",
    "        The size of the hidden layer\n",
    "    epochs : int\n",
    "        The number of epochs to train the model\n",
    "    leargning_rate : float\n",
    "        The learning rate for the gradient descent\n",
    "    batch_size : int, default 50\n",
    "        The number of datapoints in each mini-batch\n",
    "    random_state : random_state, default None\n",
    "        a numpy random state for reproducibility. If None (default)\n",
    "        The default numpy random generator with seed 0 will be used\n",
    "\n",
    "    \n",
    "    Notes\n",
    "    -----\n",
    "    This implementation initializes the weights using a random Gaussian\n",
    "    distribution with mean 0 and standard deviation 0.001\n",
    "    \"\"\"\n",
    "    def __init__(self, \n",
    "                 size_hidden, \n",
    "                 epochs, \n",
    "                 learning_rate, \n",
    "                 batch_size, \n",
    "                 random_state=None):\n",
    "        self.size_hidden = size_hidden\n",
    "        self.epochs = epochs\n",
    "        self.learning_rate = learning_rate\n",
    "        self.batch_size = batch_size\n",
    "        if random_state is None:\n",
    "            self.rng = np.random.default_rng(0)\n",
    "        else:\n",
    "            self.rng = random_state\n",
    "        # the dimensionality of _W0 will be set in the fit function\n",
    "        self._W1 = self.rng.normal(scale=0.001, size=(self.size_hidden + 1, self.size_hidden))\n",
    "\n",
    "        #weight\n",
    "        self._W2 = self.rng.normal(scale=0.001, size=(self.size_hidden + 1, self.size_hidden))\n",
    "\n",
    "        #weight\n",
    "        self._W3 = self.rng.normal(scale=0.001, size=(self.size_hidden + 1, self.size_hidden))\n",
    "\n",
    "        #weight\n",
    "        self._W4 = self.rng.normal(scale=0.001, size=(self.size_hidden + 1, self.size_hidden))\n",
    "\n",
    "        #weight\n",
    "        self._W5 = self.rng.normal(scale=0.001, size=(self.size_hidden + 1, 1))\n",
    "        self.training_losses = np.zeros(self.epochs)\n",
    "        \n",
    "    def _forward(self, X1):\n",
    "        # 1st layer\n",
    "        self.O1 = X1 @ self._W0\n",
    "        self.A1 = sigmoid(self.O1)\n",
    "\n",
    "        # add bias\n",
    "        n, _ = self.A1.shape\n",
    "        self.A1 = np.c_[np.ones((n, 1)), self.A1]\n",
    "\n",
    "        # 2nd layer \n",
    "        self.Z2 = self.A1 @ self._W1\n",
    "        self.A2 = sigmoid(self.Z2)\n",
    "\n",
    "        # add bias\n",
    "        n, _ = self.A2.shape\n",
    "        self.A2 = np.c_[np.ones((n, 1)), self.A2]\n",
    "\n",
    "        # 3rd layer \n",
    "        self.Z3 = self.A2 @ self._W2\n",
    "        self.A3 = sigmoid(self.Z3)\n",
    "\n",
    "        # add bias\n",
    "        n, _ = self.A3.shape\n",
    "        self.A3 = np.c_[np.ones((n, 1)), self.A3]\n",
    "\n",
    "        # 4th layer \n",
    "        self.Z4 = self.A3 @ self._W3\n",
    "        self.A4 = sigmoid(self.Z4)\n",
    "\n",
    "        # add bias\n",
    "        n, _ = self.A4.shape\n",
    "        self.A4 = np.c_[np.ones((n, 1)), self.A4]\n",
    "\n",
    "        # 5th layer\n",
    "        self.O5 = self.A4 @ self._W4\n",
    "        self.A5 = sigmoid(self.O5)\n",
    "\n",
    "        # add bias\n",
    "        n, _ = self.A5.shape\n",
    "        self.A5 = np.c_[np.ones((n, 1)), self.A5]\n",
    "\n",
    "        # 6th layer or output layer\n",
    "        self.O6 = self.A5 @ self._W5\n",
    "        self.A6 = self.O6\n",
    "\n",
    "        # return the identity of the output layer instead of the sigmoid\n",
    "        return self.A6\n",
    "        \n",
    "    def _backward(self, X1, y1):\n",
    "\n",
    "        # starting by the last one\n",
    "        dA6 = cost_gradient(y1, self.A6)\n",
    "        dO6 = dA6 * sigmoid_derivative(sigmoid(self.O6))\n",
    "        dW5 = self.A5.T @ dO6\n",
    "\n",
    "        # 5th layer backpropagation\n",
    "        dA5 = dO6 @ self._W5[1:,:].T\n",
    "        dO5 = dA5 * sigmoid_derivative(sigmoid(self.O5))\n",
    "        dW4 = self.A4.T @ dO5\n",
    "\n",
    "        # 4th layer backpropagation\n",
    "        dA4 = dO5 @ self._W4[1:,:].T\n",
    "        dO4 = dA4 * sigmoid_derivative(sigmoid(self.Z4))\n",
    "        dW3 = self.A3.T @ dO4\n",
    "\n",
    "        # 3rd layer backpropagation\n",
    "        dA3 = dO4 @ self._W3[1:,:].T\n",
    "        dO3 = dA3 * sigmoid_derivative(sigmoid(self.Z3))\n",
    "        dW2 = self.A2.T @ dO3\n",
    "\n",
    "        # 2nd layer backpropagation\n",
    "        dA2 = dO3 @ self._W2[1:,:].T\n",
    "        dO2 = dA2 * sigmoid_derivative(sigmoid(self.Z2))\n",
    "        dW1 = self.A1.T @ dO2\n",
    "\n",
    "        # 1st layer backpropagation\n",
    "        dA1 = dO2 @ self._W1[1:,:].T\n",
    "        dO1 = dA1 * sigmoid_derivative(sigmoid(self.O1))\n",
    "        dW0 = X1.T @ dO1\n",
    "\n",
    "        return dW0, dW1, dW2, dW3, dW4, dW5\n",
    "\n",
    "        \n",
    "    def _weight_update(self, dW0, dW1, dW2, dW3, dW4, dW5, curr_batch_size):\n",
    "        self._W0 -= self.learning_rate * dW0\n",
    "        self._W1 -= self.learning_rate * dW1\n",
    "        self._W2 -= self.learning_rate * dW2\n",
    "        self._W3 -= self.learning_rate * dW3\n",
    "        self._W4 -= self.learning_rate * dW4\n",
    "        self._W5 -= self.learning_rate * dW5\n",
    "\n",
    "\n",
    "    def fit(self, X1, y1):\n",
    "        X1, y1 = check_X_y(X1, y1)\n",
    "        n, m = X1.shape\n",
    "        _X1 = np.c_[np.ones((n, 1)), X1]\n",
    "        _y1 = y1[:,np.newaxis]\n",
    "        self._W0 = self.rng.normal(scale=0.001, size=(m+1, self.size_hidden))\n",
    "        \n",
    "        #number of batches\n",
    "        n_batches = (n + self.batch_size - 1) // self.batch_size\n",
    "        \n",
    "        for epoch in track(range(self.epochs), description=\"Training...\"):\n",
    "            for b in range(n_batches):\n",
    "                _X1_batch = _X1[b * self.batch_size : (b + 1) * self.batch_size]\n",
    "                _y1_batch = _y1[b * self.batch_size : (b + 1) * self.batch_size]\n",
    "                y_pred = self._forward(_X1_batch)\n",
    "                dW0, dW1, dW2, dW3, dW4, dW5  = self._backward(_X1_batch, _y1_batch)\n",
    "                curr_batch_size = _y1_batch.shape[0]\n",
    "                self._weight_update(dW0, dW1, dW2, dW3, dW4, dW5, curr_batch_size)\n",
    "            y1_pred = self._forward(_X1)\n",
    "            self.training_losses[epoch] = cost_function(_y1, y1_pred)\n",
    "        \n",
    "        self.fitted_ = True\n",
    "    \n",
    "    def predict(self, X1):\n",
    "        return self.predict_proba(X1).argmax(axis=1)\n",
    "    \n",
    "    def predict_proba(self, X1):\n",
    "        check_is_fitted(self)\n",
    "        \n",
    "        X1 = check_array(X1)\n",
    "        n, m = X1.shape\n",
    "        _X1 = np.c_[np.ones((n, 1)), X1]\n",
    "        \n",
    "        pred_1 = self._forward(_X1)\n",
    "        pred_0 = 1 - pred_1\n",
    "        return np.c_[pred_0, pred_1]\n"
   ]
  },
  {
   "cell_type": "code",
   "execution_count": 5,
   "id": "54d22371",
   "metadata": {},
   "outputs": [
    {
     "data": {
      "text/html": [
       "<pre style=\"white-space:pre;overflow-x:auto;line-height:normal;font-family:Menlo,'DejaVu Sans Mono',consolas,'Courier New',monospace\">Training... <span style=\"color: #f92672; text-decoration-color: #f92672\">━━━━━━━━━━━━━━━━━━━━━━━━━━━╸</span><span style=\"color: #3a3a3a; text-decoration-color: #3a3a3a\">━━━━━━━━━━━━</span> <span style=\"color: #800080; text-decoration-color: #800080\"> 70%</span> <span style=\"color: #008080; text-decoration-color: #008080\">0:00:38</span>\n",
       "</pre>\n"
      ],
      "text/plain": [
       "Training... \u001b[38;2;249;38;114m━━━━━━━━━━━━━━━━━━━━━━━━━━━\u001b[0m\u001b[38;2;249;38;114m╸\u001b[0m\u001b[38;5;237m━━━━━━━━━━━━\u001b[0m \u001b[35m 70%\u001b[0m \u001b[36m0:00:38\u001b[0m\n"
      ]
     },
     "metadata": {},
     "output_type": "display_data"
    },
    {
     "data": {
      "text/html": [
       "<pre style=\"white-space:pre;overflow-x:auto;line-height:normal;font-family:Menlo,'DejaVu Sans Mono',consolas,'Courier New',monospace\"></pre>\n"
      ],
      "text/plain": []
     },
     "metadata": {},
     "output_type": "display_data"
    },
    {
     "data": {
      "text/html": [
       "<pre style=\"white-space:pre;overflow-x:auto;line-height:normal;font-family:Menlo,'DejaVu Sans Mono',consolas,'Courier New',monospace\">\n",
       "</pre>\n"
      ],
      "text/plain": [
       "\n"
      ]
     },
     "metadata": {},
     "output_type": "display_data"
    }
   ],
   "source": [
    "# Implementation from lab 09\n",
    "\n",
    "model = FiveLayerPerceptronRegressor(3, 1000, 0.001, 5)\n",
    "model.fit(X1_train, y1_train)"
   ]
  },
  {
   "cell_type": "markdown",
   "metadata": {},
   "source": [
    "D)"
   ]
  },
  {
   "cell_type": "code",
   "execution_count": 6,
   "id": "f499f139",
   "metadata": {},
   "outputs": [
    {
     "data": {
      "image/png": "[encoded data removed]",
      "text/plain": [
       "<Figure size 720x720 with 1 Axes>"
      ]
     },
     "metadata": {
      "needs_background": "light"
     },
     "output_type": "display_data"
    }
   ],
   "source": [
    "import numpy as np\n",
    "import matplotlib.pyplot as plt\n",
    "import seaborn as sns\n",
    "\n",
    "fig, ax = plt.subplots(figsize=(10,10))\n",
    "ax.plot(model.training_losses)\n",
    "plt.show()\n",
    "plt.close(\"all\")"
   ]
  },
  {
   "cell_type": "markdown",
   "metadata": {},
   "source": [
    "E)"
   ]
  },
  {
   "cell_type": "code",
   "execution_count": 7,
   "id": "b87d64d9",
   "metadata": {},
   "outputs": [
    {
     "name": "stderr",
     "output_type": "stream",
     "text": [
      "C:\\Users\\jvict\\AppData\\Local\\Packages\\PythonSoftwareFoundation.Python.3.9_qbz5n2kfra8p0\\LocalCache\\local-packages\\Python39\\site-packages\\sklearn\\neural_network\\_multilayer_perceptron.py:702: ConvergenceWarning: Stochastic Optimizer: Maximum iterations (500) reached and the optimization hasn't converged yet.\n",
      "  warnings.warn(\n"
     ]
    },
    {
     "data": {
      "text/plain": [
       "0.9972808252056388"
      ]
     },
     "execution_count": 7,
     "metadata": {},
     "output_type": "execute_result"
    }
   ],
   "source": [
    "from sklearn.neural_network import MLPRegressor\n",
    "\n",
    "regr = MLPRegressor(random_state=1, max_iter=500).fit(X1_train, y1_train)\n",
    "regr.predict(X1_test)\n",
    "regr.score(X1_test, y1_test)\n"
   ]
  },
  {
   "cell_type": "markdown",
   "metadata": {},
   "source": [
    "F)"
   ]
  },
  {
   "cell_type": "code",
   "execution_count": 8,
   "id": "3b4d410b",
   "metadata": {},
   "outputs": [
    {
     "name": "stdout",
     "output_type": "stream",
     "text": [
      "MLPregressor\n",
      "Train MSE : 54.97323981433775\n",
      "Test MSE : 56.233644868514\n",
      "\n",
      "Our model:\n",
      "Train MSE : 20507.248407268227\n",
      "Test MSE : 20688.127718007814\n"
     ]
    }
   ],
   "source": [
    "# mlpregressor model\n",
    "from sklearn.metrics import mean_squared_error\n",
    "\n",
    "print(\"MLPregressor\")\n",
    "test_mse = mean_squared_error(y1_test, regr.predict(X1_test))\n",
    "train_mse = mean_squared_error(y1_train, regr.predict(X1_train))\n",
    "print(f'Train MSE : {train_mse}')\n",
    "print(f'Test MSE : {test_mse}')\n",
    "\n",
    "# our model \n",
    "test_mse = mean_squared_error(y1_test, model.predict(X1_test))\n",
    "train_mse = mean_squared_error(y1_train, model.predict(X1_train))\n",
    "print(\"\\nOur model:\")\n",
    "print(f'Train MSE : {train_mse}')\n",
    "print(f'Test MSE : {test_mse}')"
   ]
  },
  {
   "cell_type": "markdown",
   "metadata": {},
   "source": [
    "Parte 2"
   ]
  },
  {
   "cell_type": "code",
   "execution_count": 9,
   "metadata": {},
   "outputs": [],
   "source": [
    "pt2 = pd.read_table('Part 2.tsv', comment='#')\n",
    "\n",
    "X2 = pt2.iloc[:, :4].values\n",
    "y2 = pt2[\"target\"].values\n",
    "\n",
    "X2_train, X2_test, y2_train, y2_test = train_test_split(X2, y2, test_size=0.3, random_state=0)"
   ]
  },
  {
   "cell_type": "code",
   "execution_count": 10,
   "metadata": {},
   "outputs": [],
   "source": [
    "\n",
    "# 3 implement the activation and cost functions\n",
    "def sigmoid(Z):\n",
    "    return 1.0 / (1.0 + np.exp(-Z))\n",
    "\n",
    "def sigmoid_derivative(output):\n",
    "    return output * (1.0 - output)\n",
    "\n",
    "def cost_function(y2, y2_hat):\n",
    "    return -np.sum(y2*(np.log(y2_hat)) + (1 - y2)*np.log(1 - y2_hat)) / y2.shape[0]\n",
    "\n",
    "def cost_gradient(y2, y2_hat):\n",
    "    return -np.divide(y2, y2_hat) + np.divide(1.0 - y2, 1.0 - y2_hat)"
   ]
  },
  {
   "cell_type": "code",
   "execution_count": 11,
   "metadata": {},
   "outputs": [],
   "source": [
    "from sklearn.base import BaseEstimator, ClassifierMixin\n",
    "from sklearn.utils.estimator_checks import check_estimator\n",
    "from sklearn.utils.validation import check_X_y, check_array, check_is_fitted\n",
    "\n",
    "def print_dim(name, var):\n",
    "    print(f\"{name} = {var.shape}\")\n",
    "\n",
    "class MultiLayerPerceptronClassifier(BaseEstimator, ClassifierMixin):\n",
    "    \"\"\"\n",
    "    A fully connected 5-layer perceptron for binary regression.\n",
    "    \n",
    "    Parameters\n",
    "    ----------\n",
    "    size_hidden : int\n",
    "        The size of the hidden layer\n",
    "    epochs : int\n",
    "        The number of epochs to train the model\n",
    "    leargning_rate : float\n",
    "        The learning rate for the gradient descent\n",
    "    batch_size : int, default 50\n",
    "        The number of datapoints in each mini-batch\n",
    "    random_state : random_state, default None\n",
    "        a numpy random state for reproducibility. If None (default)\n",
    "        The default numpy random generator with seed 0 will be used\n",
    "\n",
    "    \n",
    "    Notes\n",
    "    -----\n",
    "    This implementation initializes the weights using a random Gaussian\n",
    "    distribution with mean 0 and standard deviation 0.001\n",
    "    \"\"\"\n",
    "    def __init__(self, \n",
    "                 size_hidden, \n",
    "                 epochs, \n",
    "                 learning_rate, \n",
    "                 batch_size, \n",
    "                 random_state=None):\n",
    "        self.size_hidden = size_hidden\n",
    "        self.epochs = epochs\n",
    "        self.learning_rate = learning_rate\n",
    "        self.batch_size = batch_size\n",
    "        if random_state is None:\n",
    "            self.rng = np.random.default_rng(0)\n",
    "        else:\n",
    "            self.rng = random_state\n",
    "        # the dimensionality of _W0 will be set in the fit function\n",
    "        self._W1 = self.rng.normal(scale=0.001, size=(self.size_hidden + 1, self.size_hidden))\n",
    "\n",
    "        #weight\n",
    "        self._W2 = self.rng.normal(scale=0.001, size=(self.size_hidden + 1, self.size_hidden))\n",
    "\n",
    "        #weight\n",
    "        self._W3 = self.rng.normal(scale=0.001, size=(self.size_hidden + 1, self.size_hidden))\n",
    "\n",
    "        #weight\n",
    "        self._W4 = self.rng.normal(scale=0.001, size=(self.size_hidden + 1, self.size_hidden))\n",
    "\n",
    "        #weight\n",
    "        self._W5 = self.rng.normal(scale=0.001, size=(self.size_hidden + 1, 1))\n",
    "        self.training_losses = np.zeros(self.epochs)\n",
    "        \n",
    "    def _forward(self, X1):\n",
    "        # 1st layer\n",
    "        self.O1 = X1 @ self._W0\n",
    "        self.A1 = sigmoid(self.O1)\n",
    "\n",
    "        # add bias\n",
    "        n, _ = self.A1.shape\n",
    "        self.A1 = np.c_[np.ones((n, 1)), self.A1]\n",
    "\n",
    "        # 2nd layer \n",
    "        self.Z2 = self.A1 @ self._W1\n",
    "        self.A2 = sigmoid(self.Z2)\n",
    "\n",
    "        # add bias\n",
    "        n, _ = self.A2.shape\n",
    "        self.A2 = np.c_[np.ones((n, 1)), self.A2]\n",
    "\n",
    "        # 3rd layer \n",
    "        self.Z3 = self.A2 @ self._W2\n",
    "        self.A3 = sigmoid(self.Z3)\n",
    "\n",
    "        # add bias\n",
    "        n, _ = self.A3.shape\n",
    "        self.A3 = np.c_[np.ones((n, 1)), self.A3]\n",
    "\n",
    "        # 4th layer \n",
    "        self.Z4 = self.A3 @ self._W3\n",
    "        self.A4 = sigmoid(self.Z4)\n",
    "\n",
    "        # add bias\n",
    "        n, _ = self.A4.shape\n",
    "        self.A4 = np.c_[np.ones((n, 1)), self.A4]\n",
    "\n",
    "        # 5th layer\n",
    "        self.O5 = self.A4 @ self._W4\n",
    "        self.A5 = sigmoid(self.O5)\n",
    "\n",
    "        # add bias\n",
    "        n, _ = self.A5.shape\n",
    "        self.A5 = np.c_[np.ones((n, 1)), self.A5]\n",
    "\n",
    "        # 6th layer or output layer\n",
    "        self.O6 = self.A5 @ self._W5\n",
    "        self.A6 = sigmoid(self.O6)\n",
    "\n",
    "        # return the identity of the output layer instead of the sigmoid\n",
    "        return self.A6\n",
    "        \n",
    "    def _backward(self, X1, y1):\n",
    "\n",
    "        # starting by the last one\n",
    "        dA6 = cost_gradient(y1, self.A6)\n",
    "        dO6 = dA6 * sigmoid_derivative(sigmoid(self.O6))\n",
    "        dW5 = self.A5.T @ dO6\n",
    "\n",
    "        # 5th layer backpropagation\n",
    "        dA5 = dO6 @ self._W5[1:,:].T\n",
    "        dO5 = dA5 * sigmoid_derivative(sigmoid(self.O5))\n",
    "        dW4 = self.A4.T @ dO5\n",
    "\n",
    "        # 4th layer backpropagation\n",
    "        dA4 = dO5 @ self._W4[1:,:].T\n",
    "        dO4 = dA4 * sigmoid_derivative(sigmoid(self.Z4))\n",
    "        dW3 = self.A3.T @ dO4\n",
    "\n",
    "        # 3rd layer backpropagation\n",
    "        dA3 = dO4 @ self._W3[1:,:].T\n",
    "        dO3 = dA3 * sigmoid_derivative(sigmoid(self.Z3))\n",
    "        dW2 = self.A2.T @ dO3\n",
    "\n",
    "        # 2nd layer backpropagation\n",
    "        dA2 = dO3 @ self._W2[1:,:].T\n",
    "        dO2 = dA2 * sigmoid_derivative(sigmoid(self.Z2))\n",
    "        dW1 = self.A1.T @ dO2\n",
    "\n",
    "        # 1st layer backpropagation\n",
    "        dA1 = dO2 @ self._W1[1:,:].T\n",
    "        dO1 = dA1 * sigmoid_derivative(sigmoid(self.O1))\n",
    "        dW0 = X1.T @ dO1\n",
    "\n",
    "        return dW0, dW1, dW2, dW3, dW4, dW5\n",
    "\n",
    "        \n",
    "    def _weight_update(self, dW0, dW1, dW2, dW3, dW4, dW5, curr_batch_size):\n",
    "        self._W0 -= self.learning_rate * dW0\n",
    "        self._W1 -= self.learning_rate * dW1\n",
    "        self._W2 -= self.learning_rate * dW2\n",
    "        self._W3 -= self.learning_rate * dW3\n",
    "        self._W4 -= self.learning_rate * dW4\n",
    "        self._W5 -= self.learning_rate * dW5\n",
    "\n",
    "\n",
    "    def fit(self, X1, y1):\n",
    "        X1, y1 = check_X_y(X1, y1)\n",
    "        n, m = X1.shape\n",
    "        _X1 = np.c_[np.ones((n, 1)), X1]\n",
    "        _y1 = y1[:,np.newaxis]\n",
    "        self._W0 = self.rng.normal(scale=0.001, size=(m+1, self.size_hidden))\n",
    "        \n",
    "        #number of batches\n",
    "        n_batches = (n + self.batch_size - 1) // self.batch_size\n",
    "        \n",
    "        for epoch in track(range(self.epochs), description=\"Training...\"):\n",
    "            for b in range(n_batches):\n",
    "                _X1_batch = _X1[b * self.batch_size : (b + 1) * self.batch_size]\n",
    "                _y1_batch = _y1[b * self.batch_size : (b + 1) * self.batch_size]\n",
    "                y_pred = self._forward(_X1_batch)\n",
    "                dW0, dW1, dW2, dW3, dW4, dW5  = self._backward(_X1_batch, _y1_batch)\n",
    "                curr_batch_size = _y1_batch.shape[0]\n",
    "                self._weight_update(dW0, dW1, dW2, dW3, dW4, dW5, curr_batch_size)\n",
    "            y1_pred = self._forward(_X1)\n",
    "            self.training_losses[epoch] = cost_function(_y1, y1_pred)\n",
    "        \n",
    "        self.fitted_ = True\n",
    "    \n",
    "    def predict(self, X1):\n",
    "        return self.predict_proba(X1).argmax(axis=1)\n",
    "    \n",
    "    def predict_proba(self, X1):\n",
    "        check_is_fitted(self)\n",
    "        \n",
    "        X1 = check_array(X1)\n",
    "        n, m = X1.shape\n",
    "        _X1 = np.c_[np.ones((n, 1)), X1]\n",
    "        \n",
    "        pred_1 = self._forward(_X1)\n",
    "        pred_0 = 1 - pred_1\n",
    "        return np.c_[pred_0, pred_1]"
   ]
  },
  {
   "cell_type": "markdown",
   "metadata": {},
   "source": [
    "Parte 3"
   ]
  },
  {
   "cell_type": "markdown",
   "metadata": {},
   "source": [
    "a)"
   ]
  },
  {
   "cell_type": "code",
   "execution_count": 12,
   "metadata": {},
   "outputs": [],
   "source": [
    "pt3 = pd.read_csv('Adult.data', comment='#', header=None, names=['age', 'workclass', 'fnlwgt', 'education', 'education-num', 'marital-status', 'occupation', 'relationship', 'race', 'sex', 'capital-gain', 'capital-loss', 'hours-per-week', 'native-country', 'target'])\n",
    "\n",
    "pt3 ['target'] = pd.to_numeric(pt3['target'], errors='coerce')\n",
    "pt3 = pt3.replace(np.nan, 0, regex=True)\n",
    "\n",
    "X3 = pt3.iloc[:, :14].values\n",
    "y3 = pt3['target'].values\n",
    "\n",
    "\n",
    "\n"
   ]
  },
  {
   "cell_type": "markdown",
   "metadata": {},
   "source": [
    "b)"
   ]
  },
  {
   "cell_type": "code",
   "execution_count": 13,
   "metadata": {},
   "outputs": [],
   "source": [
    "X3_train, X3_test, y3_train, y3_test = train_test_split(X3, y3, test_size=0.3, random_state=0)"
   ]
  },
  {
   "cell_type": "markdown",
   "metadata": {},
   "source": [
    "c)"
   ]
  },
  {
   "cell_type": "code",
   "execution_count": 17,
   "metadata": {},
   "outputs": [],
   "source": [
    "import numpy as np\n",
    "from collections import Counter\n",
    "\n",
    "\n",
    "def entropy(y3):\n",
    "    hist = np.bincount(y3)\n",
    "    ps = hist / len(y3)\n",
    "    return -np.sum([p * np.log2(p) for p in ps if p > 0])\n",
    "\n",
    "\n",
    "class Node:\n",
    "\n",
    "    def __init__(self, feature=None, threshold=None, left=None, right=None, *, value=None):\n",
    "        self.feature = feature\n",
    "        self.threshold = threshold\n",
    "        self.left = left\n",
    "        self.right = right\n",
    "        self.value = value\n",
    "\n",
    "    def is_leaf_node(self):\n",
    "        return self.value is not None\n",
    "\n",
    "\n",
    "class DecisionTree:\n",
    "\n",
    "    def __init__(self, min_samples_split=2, max_depth=100, n_feats=None):\n",
    "        self.min_samples_split = min_samples_split\n",
    "        self.max_depth = max_depth\n",
    "        self.n_feats = n_feats\n",
    "        self.root = None\n",
    "\n",
    "    def fit(self, X3, y3):\n",
    "        self.n_feats = X3.shape[1] if not self.n_feats else min(self.n_feats, X3.shape[1])\n",
    "        self.root = self._grow_tree(X3, y3)\n",
    "\n",
    "    def predict(self, X3):\n",
    "        return np.array([self._traverse_tree(x3, self.root) for x3 in X3])\n",
    "\n",
    "    def _grow_tree(self, X3, y3, depth=0):\n",
    "        n_samples, n_features = X3.shape\n",
    "        n_labels = len(np.unique(y3))\n",
    "\n",
    "        # stopping criteria\n",
    "        if (depth >= self.max_depth\n",
    "                or n_labels == 1\n",
    "                or n_samples < self.min_samples_split):\n",
    "            leaf_value = self._most_common_label(y3)\n",
    "            return Node(value=leaf_value)\n",
    "\n",
    "        feat_idxs = np.random.choice(n_features, self.n_feats, replace=False)\n",
    "\n",
    "        # greedily select the best split according to information gain\n",
    "        best_feat, best_thresh = self._best_criteria(X3, y3, feat_idxs)\n",
    "        \n",
    "        # grow the children that result from the split\n",
    "        left_idxs, right_idxs = self._split(X3[:, best_feat], best_thresh)\n",
    "        left = self._grow_tree(X3[left_idxs, :], y3[left_idxs], depth+1)\n",
    "        right = self._grow_tree(X3[right_idxs, :], y3[right_idxs], depth+1)\n",
    "        return Node(best_feat, best_thresh, left, right)\n",
    "\n",
    "    def _best_criteria(self, X3, y3, feat_idxs):\n",
    "        best_gain = -1\n",
    "        split_idx, split_thresh = None, None\n",
    "        for feat_idx in feat_idxs:\n",
    "            X3_column = X3[:, feat_idx]\n",
    "            thresholds = np.unique(X3_column)\n",
    "            for threshold in thresholds:\n",
    "                gain = self._information_gain(y3, X3_column, threshold)\n",
    "\n",
    "                if gain > best_gain:\n",
    "                    best_gain = gain\n",
    "                    split_idx = feat_idx\n",
    "                    split_thresh = threshold\n",
    "\n",
    "        return split_idx, split_thresh\n",
    "\n",
    "    def _information_gain(self, y3, X3_column, split_thresh):\n",
    "        # parent loss\n",
    "        parent_entropy = entropy(y3)\n",
    "\n",
    "        # generate split\n",
    "        left_idxs, right_idxs = self._split(X3_column, split_thresh)\n",
    "\n",
    "        if len(left_idxs) == 0 or len(right_idxs) == 0:\n",
    "            return 0\n",
    "\n",
    "        # compute the weighted avg. of the loss for the children\n",
    "        n = len(y3)\n",
    "        n_l, n_r = len(left_idxs), len(right_idxs)\n",
    "        e_l, e_r = entropy(y3[left_idxs]), entropy(y3[right_idxs])\n",
    "        child_entropy = (n_l / n) * e_l + (n_r / n) * e_r\n",
    "\n",
    "        # information gain is difference in loss before vs. after split\n",
    "        ig = parent_entropy - child_entropy\n",
    "        return ig\n",
    "\n",
    "    def _split(self, X3_column, split_thresh):\n",
    "        left_idxs = np.argwhere(X3_column <= split_thresh).flatten()\n",
    "        right_idxs = np.argwhere(X3_column > split_thresh).flatten()\n",
    "        return left_idxs, right_idxs\n",
    "\n",
    "    def _traverse_tree(self, x3, node):\n",
    "        if node.is_leaf_node():\n",
    "            return node.value\n",
    "\n",
    "        if x3[node.feature] <= node.threshold:\n",
    "            return self._traverse_tree(x3, node.left)\n",
    "        return self._traverse_tree(x3, node.right)\n",
    "\n",
    "    def _most_common_label(self, y3):\n",
    "        counter = Counter(y3)\n",
    "        most_common = counter.most_common(1)[0][0]\n",
    "        return most_common"
   ]
  },
  {
   "cell_type": "code",
   "execution_count": 15,
   "metadata": {},
   "outputs": [],
   "source": [
    "import numpy as np\n",
    "from collections import Counter\n",
    "\n",
    "def bootstrap_sample(X3, y3):\n",
    "    n_samples = X3.shape[0]\n",
    "    idxs = np.random.choice(n_samples, n_samples, replace=True)\n",
    "    return X3[idxs], y3[idxs]\n",
    "\n",
    "def most_common_label(y3):\n",
    "    counter = Counter(y3)\n",
    "    most_common = counter.most_common(1)[0][0]\n",
    "    return most_common\n",
    "\n",
    "\n",
    "class RandomForest:\n",
    "    \n",
    "    def __init__(self, num_trees=10, min_samples_split=2,\n",
    "                 max_depth=100, n_feats=None, n_estimators=100, random_state=0):\n",
    "        self.num_trees = num_trees\n",
    "        self.min_samples_split = min_samples_split\n",
    "        self.max_depth = max_depth\n",
    "        self.n_feats = n_feats\n",
    "        self.trees = []\n",
    "\n",
    "    def fit(self, X3, y3):\n",
    "        self.trees = []\n",
    "        for _ in range(self.num_trees):\n",
    "            tree = DecisionTree(min_samples_split=self.min_samples_split,\n",
    "                max_depth=self.max_depth, n_feats=self.n_feats)\n",
    "            X3_samp, y3_samp = bootstrap_sample(X3, y3)\n",
    "            tree.fit(X3_samp, y3_samp)\n",
    "            self.trees.append(tree)\n",
    "\n",
    "    def predict(self, X3):\n",
    "        tree_preds = np.array([tree.predict(X3) for tree in self.trees])\n",
    "        tree_preds = np.swapaxes(tree_preds, 0, 1)\n",
    "        y3_pred = [most_common_label(tree_pred) for tree_pred in tree_preds]\n",
    "        return np.array(y3_pred)"
   ]
  },
  {
   "cell_type": "code",
   "execution_count": 16,
   "metadata": {},
   "outputs": [
    {
     "ename": "NameError",
     "evalue": "name 'X' is not defined",
     "output_type": "error",
     "traceback": [
      "\u001b[1;31m---------------------------------------------------------------------------\u001b[0m",
      "\u001b[1;31mNameError\u001b[0m                                 Traceback (most recent call last)",
      "\u001b[1;32mc:\\Users\\jvict\\Downloads\\A2\\843586.ipynb Cell 28'\u001b[0m in \u001b[0;36m<cell line: 9>\u001b[1;34m()\u001b[0m\n\u001b[0;32m      <a href='vscode-notebook-cell:/c%3A/Users/jvict/Downloads/A2/843586.ipynb#ch0000027?line=5'>6</a>\u001b[0m num_features \u001b[39m=\u001b[39m X3_train\u001b[39m.\u001b[39mshape[\u001b[39m1\u001b[39m] \u001b[39m/\u001b[39m\u001b[39m/\u001b[39m \u001b[39m3\u001b[39m\n\u001b[0;32m      <a href='vscode-notebook-cell:/c%3A/Users/jvict/Downloads/A2/843586.ipynb#ch0000027?line=7'>8</a>\u001b[0m rf \u001b[39m=\u001b[39m RandomForest(min_samples_split\u001b[39m=\u001b[39m\u001b[39m20\u001b[39m, max_depth\u001b[39m=\u001b[39m\u001b[39m6\u001b[39m, num_trees\u001b[39m=\u001b[39m\u001b[39m10\u001b[39m, n_feats\u001b[39m=\u001b[39mnum_features,  n_estimators\u001b[39m=\u001b[39m\u001b[39m100\u001b[39m, random_state\u001b[39m=\u001b[39m\u001b[39m0\u001b[39m)\n\u001b[1;32m----> <a href='vscode-notebook-cell:/c%3A/Users/jvict/Downloads/A2/843586.ipynb#ch0000027?line=8'>9</a>\u001b[0m rf\u001b[39m.\u001b[39;49mfit(X3_train, y3_train)\n\u001b[0;32m     <a href='vscode-notebook-cell:/c%3A/Users/jvict/Downloads/A2/843586.ipynb#ch0000027?line=9'>10</a>\u001b[0m test_mse \u001b[39m=\u001b[39m mean_squared_error(y3_test, rf\u001b[39m.\u001b[39mpredict(X3_test))\n\u001b[0;32m     <a href='vscode-notebook-cell:/c%3A/Users/jvict/Downloads/A2/843586.ipynb#ch0000027?line=10'>11</a>\u001b[0m train_mse \u001b[39m=\u001b[39m mean_squared_error(y3_train, rf\u001b[39m.\u001b[39mpredict(X3_train))\n",
      "\u001b[1;32mc:\\Users\\jvict\\Downloads\\A2\\843586.ipynb Cell 27'\u001b[0m in \u001b[0;36mRandomForest.fit\u001b[1;34m(self, X3, y3)\u001b[0m\n\u001b[0;32m     <a href='vscode-notebook-cell:/c%3A/Users/jvict/Downloads/A2/843586.ipynb#ch0000026?line=27'>28</a>\u001b[0m tree \u001b[39m=\u001b[39m DecisionTree(min_samples_split\u001b[39m=\u001b[39m\u001b[39mself\u001b[39m\u001b[39m.\u001b[39mmin_samples_split,\n\u001b[0;32m     <a href='vscode-notebook-cell:/c%3A/Users/jvict/Downloads/A2/843586.ipynb#ch0000026?line=28'>29</a>\u001b[0m     max_depth\u001b[39m=\u001b[39m\u001b[39mself\u001b[39m\u001b[39m.\u001b[39mmax_depth, n_feats\u001b[39m=\u001b[39m\u001b[39mself\u001b[39m\u001b[39m.\u001b[39mn_feats)\n\u001b[0;32m     <a href='vscode-notebook-cell:/c%3A/Users/jvict/Downloads/A2/843586.ipynb#ch0000026?line=29'>30</a>\u001b[0m X3_samp, y3_samp \u001b[39m=\u001b[39m bootstrap_sample(X3, y3)\n\u001b[1;32m---> <a href='vscode-notebook-cell:/c%3A/Users/jvict/Downloads/A2/843586.ipynb#ch0000026?line=30'>31</a>\u001b[0m tree\u001b[39m.\u001b[39;49mfit(X3_samp, y3_samp)\n\u001b[0;32m     <a href='vscode-notebook-cell:/c%3A/Users/jvict/Downloads/A2/843586.ipynb#ch0000026?line=31'>32</a>\u001b[0m \u001b[39mself\u001b[39m\u001b[39m.\u001b[39mtrees\u001b[39m.\u001b[39mappend(tree)\n",
      "\u001b[1;32mc:\\Users\\jvict\\Downloads\\A2\\843586.ipynb Cell 26'\u001b[0m in \u001b[0;36mDecisionTree.fit\u001b[1;34m(self, X3, y3)\u001b[0m\n\u001b[0;32m     <a href='vscode-notebook-cell:/c%3A/Users/jvict/Downloads/A2/843586.ipynb#ch0000025?line=31'>32</a>\u001b[0m \u001b[39mdef\u001b[39;00m \u001b[39mfit\u001b[39m(\u001b[39mself\u001b[39m, X3, y3):\n\u001b[0;32m     <a href='vscode-notebook-cell:/c%3A/Users/jvict/Downloads/A2/843586.ipynb#ch0000025?line=32'>33</a>\u001b[0m     \u001b[39mself\u001b[39m\u001b[39m.\u001b[39mn_feats \u001b[39m=\u001b[39m X3\u001b[39m.\u001b[39mshape[\u001b[39m1\u001b[39m] \u001b[39mif\u001b[39;00m \u001b[39mnot\u001b[39;00m \u001b[39mself\u001b[39m\u001b[39m.\u001b[39mn_feats \u001b[39melse\u001b[39;00m \u001b[39mmin\u001b[39m(\u001b[39mself\u001b[39m\u001b[39m.\u001b[39mn_feats, X3\u001b[39m.\u001b[39mshape[\u001b[39m1\u001b[39m])\n\u001b[1;32m---> <a href='vscode-notebook-cell:/c%3A/Users/jvict/Downloads/A2/843586.ipynb#ch0000025?line=33'>34</a>\u001b[0m     \u001b[39mself\u001b[39m\u001b[39m.\u001b[39mroot \u001b[39m=\u001b[39m \u001b[39mself\u001b[39;49m\u001b[39m.\u001b[39;49m_grow_tree(X3, y3)\n",
      "\u001b[1;32mc:\\Users\\jvict\\Downloads\\A2\\843586.ipynb Cell 26'\u001b[0m in \u001b[0;36mDecisionTree._grow_tree\u001b[1;34m(self, X3, y3, depth)\u001b[0m\n\u001b[0;32m     <a href='vscode-notebook-cell:/c%3A/Users/jvict/Downloads/A2/843586.ipynb#ch0000025?line=38'>39</a>\u001b[0m \u001b[39mdef\u001b[39;00m \u001b[39m_grow_tree\u001b[39m(\u001b[39mself\u001b[39m, X3, y3, depth\u001b[39m=\u001b[39m\u001b[39m0\u001b[39m):\n\u001b[1;32m---> <a href='vscode-notebook-cell:/c%3A/Users/jvict/Downloads/A2/843586.ipynb#ch0000025?line=39'>40</a>\u001b[0m     n_samples, n_features \u001b[39m=\u001b[39m X\u001b[39m.\u001b[39mshape\n\u001b[0;32m     <a href='vscode-notebook-cell:/c%3A/Users/jvict/Downloads/A2/843586.ipynb#ch0000025?line=40'>41</a>\u001b[0m     n_labels \u001b[39m=\u001b[39m \u001b[39mlen\u001b[39m(np\u001b[39m.\u001b[39munique(y3))\n\u001b[0;32m     <a href='vscode-notebook-cell:/c%3A/Users/jvict/Downloads/A2/843586.ipynb#ch0000025?line=42'>43</a>\u001b[0m     \u001b[39m# stopping criteria\u001b[39;00m\n",
      "\u001b[1;31mNameError\u001b[0m: name 'X' is not defined"
     ]
    }
   ],
   "source": [
    "from sklearn.datasets import make_classification\n",
    "\n",
    "X3, y3 = make_classification(n_samples=400, n_features=15)\n",
    "X3_train, X3_test, y3_train, y3_test = train_test_split(X3, y3)\n",
    "\n",
    "num_features = X3_train.shape[1] // 3\n",
    "\n",
    "rf = RandomForest(min_samples_split=20, max_depth=6, num_trees=10, n_feats=num_features,  n_estimators=100, random_state=0)\n",
    "rf.fit(X3_train, y3_train)\n",
    "test_mse = mean_squared_error(y3_test, rf.predict(X3_test))\n",
    "train_mse = mean_squared_error(y3_train, rf.predict(X3_train))\n",
    "\n",
    "print(f'Train MSE : {train_mse}')\n",
    "print(f'Test MSE : {test_mse}')"
   ]
  },
  {
   "cell_type": "markdown",
   "metadata": {},
   "source": [
    "Parte 4"
   ]
  },
  {
   "cell_type": "code",
   "execution_count": null,
   "metadata": {},
   "outputs": [
    {
     "name": "stdout",
     "output_type": "stream",
     "text": [
      "Train MSE : 0.49333333333333335\n",
      "Test MSE : 0.51\n"
     ]
    }
   ],
   "source": [
    "from sklearn.datasets import make_classification\n",
    "\n",
    "X2, y2 = make_classification(n_samples=400, n_features=15)\n",
    "X2_train, X2_test, y2_train, y2_test = train_test_split(X3, y3)\n",
    "\n",
    "num_features = X2_train.shape[1] // 3\n",
    "\n",
    "rf = RandomForest(min_samples_split=20, max_depth=6, num_trees=10, n_feats=num_features,  n_estimators=100, random_state=0)\n",
    "rf.fit(X2_train, y2_train)\n",
    "test_mse = mean_squared_error(y2_test, rf.predict(X2_test))\n",
    "train_mse = mean_squared_error(y2_train, rf.predict(X2_train))\n",
    "\n",
    "print(f'Train MSE : {train_mse}')\n",
    "print(f'Test MSE : {test_mse}')"
   ]
  },
  {
   "cell_type": "code",
   "execution_count": null,
   "metadata": {},
   "outputs": [
    {
     "data": {
      "text/plain": [
       "array([1, 0, 1, 0, 0, 0, 1, 1, 0, 0, 1, 0, 0, 0, 0, 1, 1, 1, 1, 0, 1, 0,\n",
       "       0, 1, 0, 1, 0, 1, 0, 1, 0, 0, 0, 1, 1, 0, 1, 0, 0, 0, 1, 1, 1, 1,\n",
       "       0, 1, 1, 0, 1, 0, 0, 0, 0, 1, 1, 1, 0, 0, 1, 0, 0, 1, 0, 1, 0, 0,\n",
       "       1, 1, 1, 0, 1, 0, 0, 1, 0, 1, 0, 1, 1, 1, 1, 0, 0, 0, 1, 1, 0, 0,\n",
       "       0, 1, 1, 1, 0, 0, 1, 0, 0, 1, 0, 1])"
      ]
     },
     "execution_count": 294,
     "metadata": {},
     "output_type": "execute_result"
    }
   ],
   "source": [
    "from sklearn.ensemble import RandomForestClassifier\n",
    "\n",
    "model_random = RandomForestClassifier(n_estimators=100, max_depth=10, min_samples_split=2, random_state=0)\n",
    "\n",
    "model_random.fit(X2_train, y2_train)\n",
    "\n",
    "pred = model_random.predict(X2_test)\n",
    "\n",
    "pred"
   ]
  },
  {
   "cell_type": "code",
   "execution_count": null,
   "metadata": {},
   "outputs": [
    {
     "data": {
      "text/plain": [
       "array([1, 1, 1, 1, 1, 1, 1, 1, 1, 1, 1, 1, 1, 1, 1, 1, 1, 1, 1, 1, 1, 1,\n",
       "       1, 1, 1, 1, 1, 1, 1, 1, 1, 1, 1, 1, 1, 1, 1, 1, 1, 1, 1, 1, 1, 1,\n",
       "       1, 1, 1, 1, 1, 1, 1, 1, 1, 1, 1, 1, 1, 1, 1, 1, 1, 1, 1, 1, 1, 1,\n",
       "       1, 1, 1, 1, 1, 1, 1, 1, 1, 1, 1, 1, 1, 1, 1, 1, 1, 1, 1, 1, 1, 1,\n",
       "       1, 1, 1, 1, 1, 1, 1, 1, 1, 1, 1, 1])"
      ]
     },
     "execution_count": 300,
     "metadata": {},
     "output_type": "execute_result"
    }
   ],
   "source": [
    "model_random1 = RandomForest(min_samples_split=20, max_depth=6, num_trees=10, n_feats=num_features,  n_estimators=100, random_state=1)\n",
    "\n",
    "\n",
    "model_random1.fit(X2_train, y2_train)\n",
    "\n",
    "pred = model_random1.predict(X2_test)\n",
    "\n",
    "pred"
   ]
  }
 ],
 "metadata": {
  "interpreter": {
   "hash": "4a3fd4dd5fe32bc568ead0b1afe4820799914cb188ee2602122afe9a2b16b10a"
  },
  "kernelspec": {
   "display_name": "Python 3.9.13 64-bit (windows store)",
   "language": "python",
   "name": "python3"
  },
  "language_info": {
   "codemirror_mode": {
    "name": "ipython",
    "version": 3
   },
   "file_extension": ".py",
   "mimetype": "text/x-python",
   "name": "python",
   "nbconvert_exporter": "python",
   "pygments_lexer": "ipython3",
   "version": "3.9.13"
  },
  "orig_nbformat": 4
 },
 "nbformat": 4,
 "nbformat_minor": 2
}
